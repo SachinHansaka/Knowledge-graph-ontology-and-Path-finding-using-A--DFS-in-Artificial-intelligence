{
  "cells": [
    {
      "cell_type": "code",
      "execution_count": 5,
      "id": "f8e1b4e1",
      "metadata": {
        "id": "f8e1b4e1"
      },
      "outputs": [],
      "source": [
        "import random\n",
        "\n",
        "cell = 'c'\n",
        "barrier = 'B'\n",
        "start = \"S\"\n",
        "goal = \"G\""
      ]
    },
    {
      "cell_type": "code",
      "execution_count": 6,
      "id": "8532d9ea",
      "metadata": {
        "id": "8532d9ea"
      },
      "outputs": [],
      "source": [
        "maze = []\n",
        "def init_maze(width, height):\n",
        "    for i in range(0, height):\n",
        "        line = []\n",
        "        for j in range(0, width):\n",
        "            line.append(cell)\n",
        "        maze.append(line)\n",
        "    return maze"
      ]
    },
    {
      "cell_type": "code",
      "execution_count": 7,
      "id": "3a9b27b5",
      "metadata": {
        "id": "3a9b27b5"
      },
      "outputs": [],
      "source": [
        "def print_maze(maze):\n",
        "    for i in range(0, len(maze)):\n",
        "        for j in range(0, len(maze[0])):\n",
        "            print( f'{maze[i][j]} ', end=\"\")    \n",
        "        print('\\n')"
      ]
    },
    {
      "cell_type": "code",
      "execution_count": 8,
      "id": "7a7526bf",
      "metadata": {
        "colab": {
          "base_uri": "https://localhost:8080/"
        },
        "id": "7a7526bf",
        "outputId": "209270fc-1ee6-41c4-938a-f0ceb5a0d9bc"
      },
      "outputs": [
        {
          "output_type": "stream",
          "name": "stdout",
          "text": [
            "c c c c c c \n",
            "\n",
            "c c c c c c \n",
            "\n",
            "c c c c c c \n",
            "\n",
            "c c c c c c \n",
            "\n",
            "c c c c c c \n",
            "\n",
            "c c c c c c \n",
            "\n"
          ]
        }
      ],
      "source": [
        "print_maze(init_maze(6,6))"
      ]
    },
    {
      "cell_type": "code",
      "execution_count": 9,
      "id": "19d3f6ca-25c9-48b5-b01d-fe24dd161b79",
      "metadata": {
        "colab": {
          "base_uri": "https://localhost:8080/"
        },
        "id": "19d3f6ca-25c9-48b5-b01d-fe24dd161b79",
        "outputId": "c5738545-e797-4d06-d4f0-ca787946157a"
      },
      "outputs": [
        {
          "output_type": "stream",
          "name": "stdout",
          "text": [
            "1\n",
            "4\n"
          ]
        }
      ],
      "source": [
        "starting_x = random.randint(0,1)\n",
        "starting_y = random.randint(0,5)\n",
        "print(starting_x)\n",
        "print(starting_y)"
      ]
    },
    {
      "cell_type": "code",
      "execution_count": 10,
      "id": "f7fff76e-2fb0-464f-8ecc-300422651e21",
      "metadata": {
        "colab": {
          "base_uri": "https://localhost:8080/"
        },
        "id": "f7fff76e-2fb0-464f-8ecc-300422651e21",
        "outputId": "aa6b0ab6-eba6-4bc4-80ca-05862c0478be"
      },
      "outputs": [
        {
          "output_type": "stream",
          "name": "stdout",
          "text": [
            "4\n",
            "2\n"
          ]
        }
      ],
      "source": [
        "goal_node_x = random.randint(4,5)\n",
        "goal_node_y = random.randint(0,5)\n",
        "print(goal_node_x)\n",
        "print(goal_node_y)"
      ]
    },
    {
      "cell_type": "code",
      "execution_count": 11,
      "id": "80dc6b89-4590-42b3-af26-a9672d10e3a1",
      "metadata": {
        "colab": {
          "base_uri": "https://localhost:8080/"
        },
        "id": "80dc6b89-4590-42b3-af26-a9672d10e3a1",
        "outputId": "b7e3a354-3b52-449e-d8c1-3b0d8ff862a7"
      },
      "outputs": [
        {
          "output_type": "stream",
          "name": "stdout",
          "text": [
            "[3, 2, 0, 1]\n",
            "[3, 4, 1, 5]\n"
          ]
        }
      ],
      "source": [
        "barrier_x = random.sample([0,1,2,3,4,5], 4)\n",
        "barrier_y = random.sample([0,1,2,3,4,5], 4)\n",
        "print(barrier_x)\n",
        "print(barrier_y)"
      ]
    },
    {
      "cell_type": "code",
      "execution_count": 12,
      "id": "b1459f7e-31a2-4e43-a4d8-590db197f157",
      "metadata": {
        "id": "b1459f7e-31a2-4e43-a4d8-590db197f157"
      },
      "outputs": [],
      "source": [
        "maze[starting_y][starting_x] = start"
      ]
    },
    {
      "cell_type": "code",
      "execution_count": 13,
      "id": "fd7d816e",
      "metadata": {
        "id": "fd7d816e"
      },
      "outputs": [],
      "source": [
        "maze[goal_node_y][goal_node_x] = goal"
      ]
    },
    {
      "cell_type": "code",
      "execution_count": 14,
      "id": "e3e3e665",
      "metadata": {
        "id": "e3e3e665"
      },
      "outputs": [],
      "source": [
        "for i in range(0,4):\n",
        "    maze[barrier_y[i]][barrier_x[i]] = barrier"
      ]
    },
    {
      "cell_type": "code",
      "execution_count": 15,
      "id": "02ea7cd9",
      "metadata": {
        "colab": {
          "base_uri": "https://localhost:8080/"
        },
        "id": "02ea7cd9",
        "outputId": "de4a577f-30d1-484f-ac19-3c5b1186bbab"
      },
      "outputs": [
        {
          "output_type": "stream",
          "name": "stdout",
          "text": [
            "c c c c c c \n",
            "\n",
            "B c c c c c \n",
            "\n",
            "c c c c G c \n",
            "\n",
            "c c c B c c \n",
            "\n",
            "c S B c c c \n",
            "\n",
            "c B c c c c \n",
            "\n"
          ]
        }
      ],
      "source": [
        "print_maze(maze)"
      ]
    },
    {
      "cell_type": "code",
      "source": [],
      "metadata": {
        "id": "j9IEaP4UhxYV"
      },
      "id": "j9IEaP4UhxYV",
      "execution_count": 15,
      "outputs": []
    }
  ],
  "metadata": {
    "kernelspec": {
      "display_name": "Python 3 (ipykernel)",
      "language": "python",
      "name": "python3"
    },
    "language_info": {
      "codemirror_mode": {
        "name": "ipython",
        "version": 3
      },
      "file_extension": ".py",
      "mimetype": "text/x-python",
      "name": "python",
      "nbconvert_exporter": "python",
      "pygments_lexer": "ipython3",
      "version": "3.9.13"
    },
    "toc-showmarkdowntxt": false,
    "colab": {
      "provenance": []
    }
  },
  "nbformat": 4,
  "nbformat_minor": 5
}