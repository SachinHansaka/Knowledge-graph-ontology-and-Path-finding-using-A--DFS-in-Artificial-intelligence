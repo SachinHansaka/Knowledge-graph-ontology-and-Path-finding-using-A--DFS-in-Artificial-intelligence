{
  "cells": [
    {
      "cell_type": "code",
      "execution_count": 55,
      "id": "b7d6c11f",
      "metadata": {
        "id": "b7d6c11f"
      },
      "outputs": [],
      "source": [
        "import random\n",
        "from copy import copy, deepcopy\n",
        "\n",
        "\n",
        "#Creating maze\n",
        "def generate_maze(size):\n",
        "    for i in range(size):\n",
        "        row = []\n",
        "\n",
        "        for j in range(size):\n",
        "            row.append(i*size+j)\n",
        "        maze.append(row)\n"
      ]
    },
    {
      "cell_type": "code",
      "execution_count": 56,
      "id": "35dacbcd",
      "metadata": {
        "id": "35dacbcd"
      },
      "outputs": [],
      "source": [
        "#Display maze\n",
        "def print_maze(maze):\n",
        "\n",
        "    for i in range(len(maze)):\n",
        "        for j in range(len(maze[i])):\n",
        "            print(str(maze[j][i]).center(3), end=\" \")\n",
        "        print()"
      ]
    },
    {
      "cell_type": "code",
      "execution_count": 57,
      "id": "aee9ad2a",
      "metadata": {
        "id": "aee9ad2a"
      },
      "outputs": [],
      "source": [
        "#Genarate barriers, start node and goal node randomly\n",
        "def place_barriers(maze):\n",
        "    for i in range(len(maze)):\n",
        "        for j in range(len(maze)):\n",
        "            if maze[i][j] in barriers:\n",
        "                maze[i][j] = 'X'\n",
        "            if maze[i][j] == start_value:\n",
        "                maze[i][j] = 'S'\n",
        "            if maze[i][j] == end_value:\n",
        "                maze[i][j] = 100"
      ]
    },
    {
      "cell_type": "code",
      "execution_count": 58,
      "id": "475069b1",
      "metadata": {
        "id": "475069b1"
      },
      "outputs": [],
      "source": [
        "#return coordinates of a passed Node(value) (can pass start value as 'S')\n",
        "def coords_finder(value, maze):\n",
        "    coords = []\n",
        "    for i in range(6):\n",
        "        for j in range(6):\n",
        "            if maze[i][j] == value:\n",
        "                temp_coord = [i,j]\n",
        "                coords.append(temp_coord)\n",
        "    return coords"
      ]
    },
    {
      "cell_type": "code",
      "execution_count": 59,
      "id": "c67a61bd",
      "metadata": {
        "id": "c67a61bd"
      },
      "outputs": [],
      "source": [
        "#return coordinates of a passed Node(value) (can pass start value as 0)\n",
        "def coords_finder2(value, maze):\n",
        "    if value == start_value:\n",
        "        value = 'S'\n",
        "    coords = []\n",
        "    for i in range(6):\n",
        "        for j in range(6):\n",
        "            if maze[i][j] == value:\n",
        "                temp_coord = [i,j]\n",
        "                coords.append(temp_coord)\n",
        "    return coords"
      ]
    },
    {
      "cell_type": "code",
      "execution_count": 60,
      "id": "16ddd526",
      "metadata": {
        "id": "16ddd526"
      },
      "outputs": [],
      "source": [
        "#returns the positional value of a certain maze when coordinates are passed\n",
        "def value_finder(x, y, maze):\n",
        "    return maze[x][y]"
      ]
    },
    {
      "cell_type": "code",
      "execution_count": 61,
      "id": "67f7946e",
      "metadata": {
        "id": "67f7946e"
      },
      "outputs": [],
      "source": [
        "#changes maze values according levels (eg: nodes which are accessible to start node with one step are marked as 1)\n",
        "def take_step(s, maze):\n",
        "    step_no = 0\n",
        "    if s != 'S':\n",
        "        step_no = s\n",
        "\n",
        "    search_coords = coords_finder(s, maze)\n",
        "\n",
        "    for i in range(len(search_coords)):\n",
        "        sc = search_coords[i]\n",
        "\n",
        "        step_counted = False\n",
        "\n",
        "        if sc[0] != 5:\n",
        "            if maze[sc[0] + 1][sc[1]] not in char_list and maze[sc[0] + 1][sc[1]] not in step_list:\n",
        "                maze[sc[0] + 1][sc[1]] = step_no + 1\n",
        "                step_counted = True\n",
        "\n",
        "        if sc[1] != 5:\n",
        "            if maze[sc[0]][sc[1] + 1] not in char_list and maze[sc[0]][sc[1] + 1] not in step_list:\n",
        "                maze[sc[0]][sc[1] + 1] = step_no + 1\n",
        "                step_counted = True\n",
        "\n",
        "        if sc[0] != 0:\n",
        "            if maze[sc[0] - 1][sc[1]] not in char_list and maze[sc[0] - 1][sc[1]] not in step_list:\n",
        "                maze[sc[0] - 1][sc[1]] = step_no + 1\n",
        "                step_counted = True\n",
        "\n",
        "        if sc[1] != 0:\n",
        "            if maze[sc[0]][sc[1] - 1] not in char_list and maze[sc[0]][sc[1] - 1] not in step_list:\n",
        "                maze[sc[0]][sc[1] - 1] = step_no + 1\n",
        "                step_counted = True\n",
        "\n",
        "\n",
        "        if step_counted == True:\n",
        "            if step_no == 0:\n",
        "                step_list.append('S')\n",
        "            else:\n",
        "                step_list.append(step_no)\n",
        "\n",
        "\n",
        "        try:\n",
        "            if maze[sc[0] + 1][sc[1]] == 100 and maze[sc[0]][sc[1] + 1] == 100 and maze[sc[0] - 1][sc[1]] == 100 and maze[sc[0]][sc[1] - 1] == 100:\n",
        "                return True\n",
        "        except IndexError:\n",
        "            pass\n",
        "\n",
        "\n",
        "    return False"
      ]
    },
    {
      "cell_type": "code",
      "execution_count": 62,
      "id": "2bf974b5",
      "metadata": {
        "id": "2bf974b5"
      },
      "outputs": [],
      "source": [
        "#function to replace nodes which are free to go through\n",
        "def append_maze_zero(maze_size, maze):\n",
        "    for i in range(len(maze)):\n",
        "        for j in range(len(maze)):\n",
        "            if maze[i][j] not in char_list:\n",
        "                maze[i][j] = 0"
      ]
    },
    {
      "cell_type": "code",
      "execution_count": 63,
      "id": "cc1222c1",
      "metadata": {
        "id": "cc1222c1"
      },
      "outputs": [],
      "source": [
        "def find_next(current_val, step_no):\n",
        "    next_value = []\n",
        "\n",
        "    tc = coords_finder2(current_val, maze_graph)\n",
        "    for i in range(len(tc)):\n",
        "        if tc[i][0] != 5:\n",
        "            if maze[tc[i][0] + 1][tc[i][1]] == step_no + 1 or maze[tc[i][0] + 1][tc[i][1]] == 100:\n",
        "                next_value.append(value_finder(tc[i][0] + 1, tc[i][1], maze_graph))\n",
        "\n",
        "        if tc[i][1] != 5:\n",
        "            if maze[tc[i][0]][tc[i][1] + 1] == step_no + 1 or maze[tc[i][0]][tc[i][1] + 1] == 100:\n",
        "                next_value.append(value_finder(tc[i][0], tc[i][1] + 1, maze_graph))\n",
        "\n",
        "        if tc[i][0] != 0:\n",
        "            if maze[tc[i][0] - 1][tc[i][1]] == step_no + 1 or maze[tc[i][0] - 1][tc[i][1]] == 100:\n",
        "                next_value.append(value_finder(tc[i][0] - 1, tc[i][1], maze_graph))\n",
        "\n",
        "        if tc[i][1] != 0:\n",
        "            if maze[tc[i][0]][tc[i][1] - 1] == step_no + 1 or maze[tc[i][0]][tc[i][1] - 1] == 100:\n",
        "                next_value.append(value_finder(tc[i][0], tc[i][1] - 1, maze_graph))\n",
        "\n",
        "    next_value.sort()\n",
        "\n",
        "    return next_value"
      ]
    },
    {
      "cell_type": "code",
      "execution_count": 64,
      "id": "9900bbc8",
      "metadata": {
        "id": "9900bbc8"
      },
      "outputs": [],
      "source": [
        "#generate graph\n",
        "def graphing(current_val, step_no):\n",
        "    next_list = find_next(current_val, step_no)\n",
        "    graph[current_val] = next_list\n",
        "    return next_list"
      ]
    },
    {
      "cell_type": "code",
      "execution_count": 65,
      "id": "f7d73632",
      "metadata": {
        "id": "f7d73632"
      },
      "outputs": [],
      "source": [
        "#finds max value\n",
        "def find_max(maze):\n",
        "    temp_max = 0\n",
        "    for i in range(len(maze)):\n",
        "        for j in range(len(maze[i])):\n",
        "            if type(maze[i][j]) == int:\n",
        "                if maze[i][j] > temp_max:\n",
        "                    temp_max = maze[i][j]\n",
        "    return temp_max"
      ]
    },
    {
      "cell_type": "code",
      "execution_count": 66,
      "id": "b7b37597",
      "metadata": {
        "id": "b7b37597"
      },
      "outputs": [],
      "source": [
        "def take_all_steps():\n",
        "    is_over = False\n",
        "    take_step('S', maze)\n",
        "\n",
        "\n",
        "    for i in range(1, 36):\n",
        "        is_over = take_step(i, maze)\n",
        "        if is_over == True:\n",
        "            break"
      ]
    },
    {
      "cell_type": "code",
      "execution_count": 67,
      "id": "c2991bc1",
      "metadata": {
        "id": "c2991bc1"
      },
      "outputs": [],
      "source": [
        "#create graph\n",
        "def graphing_main():\n",
        "    graphed_nodes_temp = []\n",
        "    graphed_nodes = []\n",
        "\n",
        "    next_values = graphing(start_value, 0)\n",
        "\n",
        "\n",
        "    for i in range(len(next_values)):\n",
        "        graphing(next_values[i], 1)\n",
        "\n",
        "    for i in graph:\n",
        "        graphed_nodes_temp.append(graph[i])\n",
        "\n",
        "    for i in range(len(graphed_nodes_temp)):\n",
        "        for j in range(len(graphed_nodes_temp[i])):\n",
        "            graphed_nodes.append(graphed_nodes_temp[i][j])\n",
        "\n",
        "    for k in range(64):\n",
        "        for i in range(len(graphed_nodes)):\n",
        "            if graphed_nodes[i] not in graph:\n",
        "                temp_coords = coords_finder2(graphed_nodes[i], maze_graph)\n",
        "                temp_step_no = value_finder(temp_coords[0][0], temp_coords[0][1], maze)\n",
        "                next_list = find_next(graphed_nodes[i], temp_step_no)\n",
        "                graph[graphed_nodes[i]] = next_list\n",
        "\n",
        "                for j in range(len(next_list)):\n",
        "                    graphed_nodes.append(next_list[j])"
      ]
    },
    {
      "cell_type": "code",
      "execution_count": 68,
      "id": "d7b871d5",
      "metadata": {
        "id": "d7b871d5"
      },
      "outputs": [],
      "source": [
        "def heuristic_cost(x, y):\n",
        "    goal_node_coords = coords_finder(100, maze_graph)\n",
        "    man_dist = max(abs(x - goal_node_coords[0][0]),abs(y - goal_node_coords[0][1]))\n",
        "    return man_dist"
      ]
    },
    {
      "cell_type": "code",
      "execution_count": 69,
      "id": "e0ea4f28",
      "metadata": {
        "id": "e0ea4f28"
      },
      "outputs": [],
      "source": [
        "def heuristic_cost_maze():\n",
        "    temp_maze = []\n",
        "\n",
        "    for i in range(6):\n",
        "        temp_row = []\n",
        "        for j in range(6):\n",
        "            if maze[i][j] in char_list:\n",
        "                heu_value = maze[i][j]\n",
        "                temp_row.append(heu_value)\n",
        "                continue\n",
        "            else:\n",
        "                heu_value = heuristic_cost(i,j)\n",
        "                temp_row.append(heu_value)\n",
        "        temp_maze.append(temp_row)\n",
        "    return temp_maze"
      ]
    },
    {
      "cell_type": "code",
      "execution_count": 70,
      "id": "3174fd9a",
      "metadata": {
        "id": "3174fd9a"
      },
      "outputs": [],
      "source": [
        "#dfs for get the shortest path\n",
        "def dfs(visited, graph, node, target_node):  #function for dfs   #should get the shortest path\n",
        "\n",
        "    if node not in visited:\n",
        "        print (node, end = \" \")\n",
        "        visited.add(node)\n",
        "        for neighbour in graph[node]:\n",
        "            dfs(visited, graph, neighbour, target_node)\n",
        "            if target_node in visited:\n",
        "                path.append(node)\n",
        "                break\n",
        "    if node == target_node:\n",
        "        path.append(target_node)"
      ]
    },
    {
      "cell_type": "code",
      "execution_count": 71,
      "id": "152d1794",
      "metadata": {
        "id": "152d1794"
      },
      "outputs": [],
      "source": [
        "#get the Astar path\n",
        "def Astar(start_node, goal_node):\n",
        "    visited.append(start_node)\n",
        "    path = []\n",
        "    curr_node = start_node\n",
        "    value_coords = coords_finder2(curr_node, heu_maze)[0]\n",
        "    while goal_node not in path:\n",
        "\n",
        "\n",
        "        temp_nodes = []\n",
        "\n",
        "        try:\n",
        "            if value_coords[0] != 5:\n",
        "                if type(value_finder(value_coords[0] + 1, value_coords[1], heu_maze)) == int:\n",
        "                    temp_nodes.append(value_finder(value_coords[0] + 1, value_coords[1], maze_graph))\n",
        "            if value_coords[0] != 0:\n",
        "                if type(value_finder(value_coords[0] - 1, value_coords[1], heu_maze)) == int:\n",
        "                    temp_nodes.append(value_finder(value_coords[0] - 1, value_coords[1], maze_graph))\n",
        "\n",
        "            if value_coords[1] != 5:\n",
        "                if type(value_finder(value_coords[0], value_coords[1] + 1, heu_maze)) == int:\n",
        "                    temp_nodes.append(value_finder(value_coords[0], value_coords[1] + 1, maze_graph))\n",
        "            if value_coords[1] != 0:\n",
        "                if type(value_finder(value_coords[0], value_coords[1] - 1, heu_maze)) == int:\n",
        "                    temp_nodes.append(value_finder(value_coords[0], value_coords[1] - 1, maze_graph))\n",
        "\n",
        "        except IndexError:\n",
        "            pass\n",
        "\n",
        "\n",
        "\n",
        "        path.append(curr_node)\n",
        "        temp_coords = []\n",
        "        temp_heu_values = []\n",
        "\n",
        "\n",
        "        for i in range(len(temp_nodes)):\n",
        "            x = coords_finder2(temp_nodes[i], maze_graph)\n",
        "            temp_coords.append(x)\n",
        "\n",
        "        min_value = 1000\n",
        "        for i in range(len(temp_coords)):\n",
        "            x = value_finder(temp_coords[i][0][0], temp_coords[i][0][1], heu_maze)\n",
        "            if x == 100:\n",
        "                path.append(x)\n",
        "\n",
        "            if x < min_value:\n",
        "                value_coords = [temp_coords[i][0][0], temp_coords[i][0][1]]\n",
        "                curr_node = value_finder(value_coords[0], value_coords[1], maze_graph)\n",
        "                min_value = x\n",
        "\n",
        "        for i in temp_nodes:\n",
        "            if i not in visited:\n",
        "                visited.append(i)\n",
        "\n",
        "    return path"
      ]
    },
    {
      "cell_type": "code",
      "execution_count": 72,
      "id": "994f8aba",
      "metadata": {
        "colab": {
          "base_uri": "https://localhost:8080/"
        },
        "id": "994f8aba",
        "outputId": "19054b14-198f-441a-9589-dbe4157872b8"
      },
      "outputs": [
        {
          "output_type": "stream",
          "name": "stdout",
          "text": [
            "\n",
            "I have corresponded goal node as 100\n",
            "\n",
            "Positional Value Maze:\n",
            " 0   6   12  18  24  30 \n",
            " 1   S   13  19  25  31 \n",
            " 2   8   14  X   26  X  \n",
            " 3   9   15  21  27  X  \n",
            " 4   X   16  22  28  X  \n",
            " 5   11  17  23  29 100 \n",
            "Heuristic Maze\n",
            " 5   5   5   5   5   5  \n",
            " 5   S   4   4   4   4  \n",
            " 5   4   3   X   3   X  \n",
            " 5   4   3   2   2   X  \n",
            " 5   X   3   2   1   X  \n",
            " 5   4   3   2   1  100 \n",
            "---------------------------------------------------------------------------------------------------------------------------------------------------------------------------------------------\n",
            "Depth-First Search - Visited Nodes\n",
            "7 1 0 2 3 4 5 11 6 12 18 24 30 8 9 15 16 17 23 29 100 \n",
            "Time to find the goal node:  21  minutes\n",
            "Path:  [7, 8, 9, 15, 16, 17, 23, 29, 100]\n",
            "---------------------------------------------------------------------------------------------------------------------------------------------------------------------------------------------\n",
            "A* Search\n",
            "\n",
            "Visited List: \n",
            " [7, 13, 1, 8, 6, 19, 14, 12, 15, 21, 9, 16, 27, 22, 28, 26, 29, 100, 23]\n",
            "\n",
            "Shortest Path: \n",
            " [7, 13, 14, 15, 21, 27, 28, 29, 100]\n",
            "\n",
            "Time to find the goal node:  8  minutes\n",
            "A* Score:  16\n"
          ]
        }
      ],
      "source": [
        "#generating random numbers within given ranges for the start and end positions\n",
        "start_value = random.randint(0,11)\n",
        "end_value = random.randint(24,35)\n",
        "\n",
        "\n",
        "\n",
        "#generating a list without start and end values to generate barrier positions\n",
        "maze_numbers = [*range(0,36)]\n",
        "maze_numbers.remove(start_value)\n",
        "maze_numbers.remove(end_value)\n",
        "\n",
        "\n",
        "#generating barriers\n",
        "barriers = random.sample(maze_numbers, 5)\n",
        "\n",
        "\n",
        "#listing what characters to ignore when changing maze values\n",
        "char_list = ['S', 100, 'X']\n",
        "step_list = []\n",
        "\n",
        "maze = [] #declaring empty maze to append values\n",
        "\n",
        "\n",
        "#iniitializing a dictionary to generate a graph\n",
        "graph = {\n",
        "\n",
        "}\n",
        "generate_maze(6)\n",
        "place_barriers(maze)\n",
        "maze_graph = deepcopy(maze)\n",
        "append_maze_zero(6, maze)\n",
        "\n",
        "take_all_steps()\n",
        "path = []\n",
        "\n",
        "graphing_main()\n",
        "\n",
        "heu_maze = heuristic_cost_maze()\n",
        "\n",
        "visited = []  # List for visited nodes.\n",
        "queue = []  # Initialize a queue\n",
        "all_paths = []\n",
        "\n",
        "print(\"\\nI have corresponded goal node as 100\")\n",
        "\n",
        "print('\\nPositional Value Maze:')\n",
        "print_maze(maze_graph)\n",
        "\n",
        "print('Heuristic Maze')\n",
        "print_maze(heu_maze)\n",
        "\n",
        "\n",
        "def DFS():\n",
        "    print('---------------------------------------------------------------------------------------------------------------------------------------------------------------------------------------------')\n",
        "    queue.clear()\n",
        "    visited = set()\n",
        "\n",
        "    print(\"Depth-First Search - Visited Nodes\")\n",
        "    dfs(visited, graph, start_value, 100)\n",
        "    print('\\nTime to find the goal node: ', len(visited), ' minutes')\n",
        "    path.reverse()\n",
        "    print('Path: ', path)\n",
        "    print('---------------------------------------------------------------------------------------------------------------------------------------------------------------------------------------------')\n",
        "\n",
        "DFS()\n",
        "\n",
        "visited.clear()\n",
        "x = Astar(start_value, 100)\n",
        "print('A* Search\\n')\n",
        "print('Visited List: \\n', visited)\n",
        "print('\\nShortest Path: \\n', x)\n",
        "print('\\nTime to find the goal node: ', len(x) - 1, ' minutes')\n",
        "print('A* Score: ', (len(x) - 1)*2)"
      ]
    },
    {
      "cell_type": "code",
      "source": [],
      "metadata": {
        "id": "08NikJTDE6oG"
      },
      "id": "08NikJTDE6oG",
      "execution_count": null,
      "outputs": []
    }
  ],
  "metadata": {
    "kernelspec": {
      "display_name": "Python 3 (ipykernel)",
      "language": "python",
      "name": "python3"
    },
    "language_info": {
      "codemirror_mode": {
        "name": "ipython",
        "version": 3
      },
      "file_extension": ".py",
      "mimetype": "text/x-python",
      "name": "python",
      "nbconvert_exporter": "python",
      "pygments_lexer": "ipython3",
      "version": "3.9.13"
    },
    "colab": {
      "provenance": []
    }
  },
  "nbformat": 4,
  "nbformat_minor": 5
}